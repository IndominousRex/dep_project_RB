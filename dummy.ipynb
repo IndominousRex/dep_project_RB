{
 "cells": [
  {
   "cell_type": "code",
   "execution_count": 6,
   "metadata": {},
   "outputs": [],
   "source": [
    "import pandas as pd\n",
    "import os\n",
    "import re\n",
    "import pickle\n",
    "import random\n",
    "import numpy as np\n",
    "\n",
    "random_state = 42\n",
    "random.seed(42)"
   ]
  },
  {
   "cell_type": "code",
   "execution_count": 4,
   "metadata": {},
   "outputs": [],
   "source": [
    "# dep_directory = \"..\\Identifying-depression-master\\Identifying-depression-master\\Data_Collector\\mixed_depression\"\n",
    "# non_dep_directory = \"..\\Identifying-depression-master\\Identifying-depression-master\\Data_Collector\\mixed_non_depression\""
   ]
  },
  {
   "cell_type": "code",
   "execution_count": 5,
   "metadata": {},
   "outputs": [],
   "source": [
    "# def get_list_from_folder(directory, label: int):\n",
    "#     file_list = os.listdir(directory)\n",
    "\n",
    "#     data = []\n",
    "\n",
    "#     for file_name in file_list:\n",
    "#         file_path = os.path.join(directory, file_name)\n",
    "\n",
    "#         if os.path.isfile(file_path):\n",
    "#             with open(file_path, \"r\", encoding=\"ANSI\") as file:\n",
    "#                 text = file.read()\n",
    "#                 data.append(text)\n",
    "\n",
    "#     return data"
   ]
  },
  {
   "cell_type": "code",
   "execution_count": 2,
   "metadata": {},
   "outputs": [
    {
     "data": {
      "text/plain": [
       "2822"
      ]
     },
     "execution_count": 2,
     "metadata": {},
     "output_type": "execute_result"
    }
   ],
   "source": [
    "data = pickle.load(open(\"data.pkl\", \"rb\"))\n",
    "len(data)"
   ]
  },
  {
   "cell_type": "code",
   "execution_count": 17,
   "metadata": {},
   "outputs": [],
   "source": [
    "exemplars = random.sample(data[:1300], 50)"
   ]
  },
  {
   "cell_type": "code",
   "execution_count": 8,
   "metadata": {},
   "outputs": [
    {
     "data": {
      "text/plain": [
       "(2822, 2)"
      ]
     },
     "execution_count": 8,
     "metadata": {},
     "output_type": "execute_result"
    }
   ],
   "source": [
    "np.array(data).shape"
   ]
  },
  {
   "cell_type": "code",
   "execution_count": 7,
   "metadata": {},
   "outputs": [],
   "source": [
    "samples=pickle.load(open(\"samples.pkl\",\"rb\"))"
   ]
  },
  {
   "cell_type": "code",
   "execution_count": 8,
   "metadata": {},
   "outputs": [],
   "source": [
    "def preprocess(text):\n",
    "    text = re.sub(r\"@[A-Za-z0-9]+\", \"\", text)\n",
    "    text = re.sub(r\"[0-9]+\", \"\", text)\n",
    "    text = re.sub(r\"#[A-Za-z0-9]*\", \"\", text)\n",
    "    text = re.sub(r\"https?:\\/\\/\\S+\", \"\", text)\n",
    "    text = re.sub(r\"[\\n]\", \" \", text)\n",
    "    text = re.sub(r\"['\\\",*%$#()]\", \" \", text)\n",
    "    text = text.encode(\"ascii\", \"ignore\").decode(\"ascii\")\n",
    "    return text.strip()"
   ]
  },
  {
   "cell_type": "code",
   "execution_count": 9,
   "metadata": {},
   "outputs": [],
   "source": [
    "samples = [[preprocess(i[0]),i[1]] for i in samples]"
   ]
  },
  {
   "cell_type": "code",
   "execution_count": 135,
   "metadata": {},
   "outputs": [],
   "source": [
    "# with open(\"samples.pkl\",\"wb\")as f:\n",
    "#     pickle.dump(exemplars_preprocessed,f)"
   ]
  },
  {
   "cell_type": "code",
   "execution_count": 10,
   "metadata": {},
   "outputs": [],
   "source": [
    "data = [[preprocess(i[0]),i[1]] for i in data]"
   ]
  },
  {
   "cell_type": "code",
   "execution_count": 11,
   "metadata": {},
   "outputs": [
    {
     "data": {
      "text/plain": [
       "(2822, 2)"
      ]
     },
     "execution_count": 11,
     "metadata": {},
     "output_type": "execute_result"
    }
   ],
   "source": [
    "np.array(data).shape"
   ]
  },
  {
   "cell_type": "code",
   "execution_count": 36,
   "metadata": {},
   "outputs": [],
   "source": [
    "rules=open(\"samples.txt\",\"r\").readlines()"
   ]
  },
  {
   "cell_type": "code",
   "execution_count": 95,
   "metadata": {},
   "outputs": [
    {
     "data": {
      "text/plain": [
       "(186, '.*\\\\bdeath\\\\b\\\\s+(\\\\w+\\\\s+){0,3}\\\\brelief\\\\b.*\\n')"
      ]
     },
     "execution_count": 95,
     "metadata": {},
     "output_type": "execute_result"
    }
   ],
   "source": [
    "len(samples[-6][0]),rules[-6]"
   ]
  },
  {
   "cell_type": "code",
   "execution_count": 96,
   "metadata": {},
   "outputs": [
    {
     "data": {
      "text/plain": [
       "'This world just isn t for me I m scum. Bottom of the barrel. I m no role model and I don t try to become one. Death is scary but'"
      ]
     },
     "execution_count": 96,
     "metadata": {},
     "output_type": "execute_result"
    }
   ],
   "source": [
    "samples[-6][0][:128]"
   ]
  },
  {
   "cell_type": "code",
   "execution_count": 94,
   "metadata": {},
   "outputs": [
    {
     "data": {
      "text/plain": [
       "True"
      ]
     },
     "execution_count": 94,
     "metadata": {},
     "output_type": "execute_result"
    }
   ],
   "source": [
    "bool(\n",
    "    re.search(\n",
    "        r'\\bdeath\\b\\s+(\\w+\\s+){0,8}\\brelief\\b',\n",
    "        \"Death is scary but it s the only relief from the burden of having to change.\",\n",
    "        re.IGNORECASE,\n",
    "    )\n",
    ")"
   ]
  },
  {
   "cell_type": "code",
   "execution_count": 92,
   "metadata": {},
   "outputs": [],
   "source": [
    "match=re.search(r\"\\bdeath\\b\\s+(\\w+\\s+){0,8}\\brelief\\b\",\"Death is scary but it s the only relief from the burden of having to change.\",re.IGNORECASE)"
   ]
  },
  {
   "cell_type": "code",
   "execution_count": 93,
   "metadata": {},
   "outputs": [
    {
     "data": {
      "text/plain": [
       "<re.Match object; span=(0, 39), match='Death is scary but it s the only relief'>"
      ]
     },
     "execution_count": 93,
     "metadata": {},
     "output_type": "execute_result"
    }
   ],
   "source": [
    "match"
   ]
  },
  {
   "cell_type": "code",
   "execution_count": 35,
   "metadata": {},
   "outputs": [
    {
     "data": {
      "text/plain": [
       "False"
      ]
     },
     "execution_count": 35,
     "metadata": {},
     "output_type": "execute_result"
    }
   ],
   "source": [
    "import re\n",
    "bool(re.search(r\".*\\b(dont|don't|no|not)\\s+(?:\\w+\\s+){0,3}to do with my life\\b.*\",\"I dont have any idea what to do with my life.\", re.IGNORECASE))"
   ]
  },
  {
   "cell_type": "code",
   "execution_count": 30,
   "metadata": {},
   "outputs": [
    {
     "data": {
      "text/plain": [
       "'Is it possible to fake depression? I have been feeling bad for about  months now. There are periods where I cry on a daily basis, I never feel like talking, I struggle concentrating and collecting thoughts, I feel such an extreme sadness inside of me also in happy situations, I am exhausted all the time even if I sleep  hours straight, I often have headaches, I am completely alone and I find it difficult to do anything. There are nights where its unbearable. I think about my situation: I am completely alone, I am failing at anything because I am so weak I cant handle my feelings, I feel guilt for everything that happens around me, I cant carry on anymore, I am always here in this dark place and I feel that I have no right to be like this. I used to self harm and I still have many scars on my skin, but I think to be disrespectful to those who truly struggle then I promised to cut never again. I shouldnt have the right to do so. My life is void, I am void, and I cant get the energy to do anything ever. I do not get pleasure from what I used to love, nothing seems to make me feel something good. I can enjoy no series, no book, no videogame like I used to. I think I dont even deserve to eat. I am just trying to pity myself giving myself depression, but I dont have it. Is it possible to fake depression? Could it actually be an excuse for me to not take responsibility of the failure that I am?'"
      ]
     },
     "execution_count": 30,
     "metadata": {},
     "output_type": "execute_result"
    }
   ],
   "source": [
    "data[0][0]"
   ]
  },
  {
   "cell_type": "code",
   "execution_count": 4,
   "metadata": {},
   "outputs": [
    {
     "data": {
      "text/plain": [
       "False"
      ]
     },
     "execution_count": 4,
     "metadata": {},
     "output_type": "execute_result"
    }
   ],
   "source": [
    "import re\n",
    "\n",
    "# sample_text = \"I feel like he's bored\"\n",
    "sample_text = \"i feel really depressing\"\n",
    "pattern = re.compile(r\".*\\bget|feel\\b\\s+(\\w+\\s+){0,3}\\bdepressed\\b.*\", re.IGNORECASE)\n",
    "\n",
    "bool(pattern.search(sample_text))"
   ]
  }
 ],
 "metadata": {
  "kernelspec": {
   "display_name": "Python 3",
   "language": "python",
   "name": "python3"
  },
  "language_info": {
   "codemirror_mode": {
    "name": "ipython",
    "version": 3
   },
   "file_extension": ".py",
   "mimetype": "text/x-python",
   "name": "python",
   "nbconvert_exporter": "python",
   "pygments_lexer": "ipython3",
   "version": "3.11.3"
  },
  "orig_nbformat": 4
 },
 "nbformat": 4,
 "nbformat_minor": 2
}
