{
 "cells": [
  {
   "cell_type": "code",
   "execution_count": 1,
   "metadata": {},
   "outputs": [],
   "source": [
    "import numpy as np\n",
    "import pandas as pd\n",
    "import torch\n",
    "import torch.nn as nn\n",
    "import torch.functional as F\n",
    "import pickle\n",
    "import re\n",
    "from torchtext.data.utils import get_tokenizer\n",
    "from torchtext.vocab import build_vocab_from_iterator\n",
    "import spacy\n",
    "from torch.utils.data import DataLoader\n",
    "from sklearn.model_selection import train_test_split\n",
    "import random\n",
    "from tqdm.auto import tqdm\n",
    "\n",
    "RANDOM_STATE = 5411\n",
    "# device = \"cuda:0\" if torch.cuda.is_available() else \"cpu\"\n",
    "device=\"cpu\""
   ]
  },
  {
   "cell_type": "code",
   "execution_count": 2,
   "metadata": {},
   "outputs": [],
   "source": [
    "torch.cuda.manual_seed(RANDOM_STATE)\n",
    "torch.manual_seed(RANDOM_STATE)\n",
    "random.seed(RANDOM_STATE)\n",
    "# torch.cuda.set_device(device)"
   ]
  },
  {
   "cell_type": "code",
   "execution_count": 3,
   "metadata": {},
   "outputs": [],
   "source": [
    "data = pickle.load(open(\"data/data.pkl\", \"rb\"))"
   ]
  },
  {
   "cell_type": "code",
   "execution_count": 4,
   "metadata": {},
   "outputs": [],
   "source": [
    "def preprocess(text):\n",
    "    text = re.sub(r\"@[A-Za-z0-9]+\", \"\", text)\n",
    "    text = re.sub(r\"[0-9]+\", \"\", text)\n",
    "    text = re.sub(r\"#[A-Za-z0-9]*\", \"\", text)\n",
    "    text = re.sub(r\"https?:\\/\\/\\S+\", \"\", text)\n",
    "    text = re.sub(r\"[\\n]\", \" \", text)\n",
    "    # text = re.sub(r\"[.*/]\", \" \", text)\n",
    "    text = text.encode(\"ascii\", \"ignore\").decode(\"ascii\")\n",
    "    return text.strip()"
   ]
  },
  {
   "cell_type": "code",
   "execution_count": 5,
   "metadata": {},
   "outputs": [],
   "source": [
    "data = [[preprocess(i[0]), i[1]] for i in data]"
   ]
  },
  {
   "cell_type": "code",
   "execution_count": 6,
   "metadata": {},
   "outputs": [
    {
     "name": "stderr",
     "output_type": "stream",
     "text": [
      "c:\\Users\\aritr\\AppData\\Local\\Programs\\Python\\Python311\\Lib\\site-packages\\torchtext\\data\\utils.py:105: UserWarning: Spacy model \"en\" could not be loaded, trying \"en_core_web_sm\" instead\n",
      "  warnings.warn(\n"
     ]
    }
   ],
   "source": [
    "tokenizer = get_tokenizer(\"spacy\")"
   ]
  },
  {
   "cell_type": "code",
   "execution_count": 7,
   "metadata": {},
   "outputs": [],
   "source": [
    "def yield_tokens(data_iter):\n",
    "    for text, _ in data_iter:\n",
    "        yield tokenizer(text)"
   ]
  },
  {
   "cell_type": "code",
   "execution_count": 8,
   "metadata": {},
   "outputs": [],
   "source": [
    "vocab = build_vocab_from_iterator(yield_tokens(data), specials=[\"<unk>\"])\n",
    "vocab.set_default_index(vocab[\"<unk>\"])"
   ]
  },
  {
   "cell_type": "code",
   "execution_count": 9,
   "metadata": {},
   "outputs": [
    {
     "data": {
      "text/plain": [
       "23160"
      ]
     },
     "execution_count": 9,
     "metadata": {},
     "output_type": "execute_result"
    }
   ],
   "source": [
    "len(vocab)"
   ]
  },
  {
   "cell_type": "code",
   "execution_count": 10,
   "metadata": {},
   "outputs": [],
   "source": [
    "stoi = lambda x: vocab(tokenizer(x))"
   ]
  },
  {
   "cell_type": "code",
   "execution_count": 11,
   "metadata": {},
   "outputs": [
    {
     "data": {
      "text/plain": [
       "'<unk>'"
      ]
     },
     "execution_count": 11,
     "metadata": {},
     "output_type": "execute_result"
    }
   ],
   "source": [
    "vocab.get_itos()[0]"
   ]
  },
  {
   "cell_type": "code",
   "execution_count": 12,
   "metadata": {},
   "outputs": [
    {
     "data": {
      "text/plain": [
       "['<', 'unk', '>']"
      ]
     },
     "execution_count": 12,
     "metadata": {},
     "output_type": "execute_result"
    }
   ],
   "source": [
    "tokenizer(\"<unk>\")"
   ]
  },
  {
   "cell_type": "code",
   "execution_count": 13,
   "metadata": {},
   "outputs": [],
   "source": [
    "# import pandas as pd\n",
    "\n",
    "# glove = pd.read_csv('D:/Downloads/glove.840B.300d/glove.840B.300d.txt', sep=\" \", quoting=3, header=None, index_col=0)"
   ]
  },
  {
   "cell_type": "code",
   "execution_count": 14,
   "metadata": {},
   "outputs": [],
   "source": [
    "# glove.head(5)"
   ]
  },
  {
   "cell_type": "code",
   "execution_count": 15,
   "metadata": {},
   "outputs": [],
   "source": [
    "\n",
    "# glove_embedding = {key: val.values for key, val in glove.T.items()}"
   ]
  },
  {
   "cell_type": "code",
   "execution_count": 16,
   "metadata": {},
   "outputs": [],
   "source": [
    "# len(glove_embedding[','])"
   ]
  },
  {
   "cell_type": "code",
   "execution_count": 17,
   "metadata": {},
   "outputs": [
    {
     "data": {
      "text/plain": [
       "[3]"
      ]
     },
     "execution_count": 17,
     "metadata": {},
     "output_type": "execute_result"
    }
   ],
   "source": [
    "stoi(\",\")"
   ]
  },
  {
   "cell_type": "code",
   "execution_count": 18,
   "metadata": {},
   "outputs": [],
   "source": [
    "# embedding_matrix = torch.zeros((len(vocab), 300))\n",
    "\n",
    "# for i in range(1, len(vocab)):\n",
    "#     word = vocab.get_itos()[i]\n",
    "#     if word in glove_embedding:\n",
    "#         embedding_matrix[i]=torch.from_numpy(glove_embedding[word])"
   ]
  },
  {
   "cell_type": "code",
   "execution_count": 19,
   "metadata": {},
   "outputs": [],
   "source": [
    "# embedding_matrix[:5]"
   ]
  },
  {
   "cell_type": "code",
   "execution_count": 20,
   "metadata": {},
   "outputs": [],
   "source": [
    "# pickle.dump(embedding_matrix,open(\"embeddings.pkl\",\"wb\"))"
   ]
  },
  {
   "cell_type": "code",
   "execution_count": 21,
   "metadata": {},
   "outputs": [],
   "source": [
    "x=pickle.load(open(\"embeddings.pkl\",\"rb\"))"
   ]
  },
  {
   "cell_type": "code",
   "execution_count": 22,
   "metadata": {},
   "outputs": [
    {
     "data": {
      "text/plain": [
       "torch.Tensor"
      ]
     },
     "execution_count": 22,
     "metadata": {},
     "output_type": "execute_result"
    }
   ],
   "source": [
    "type(x)"
   ]
  },
  {
   "cell_type": "code",
   "execution_count": 23,
   "metadata": {},
   "outputs": [],
   "source": [
    "def collate_batch(batch):\n",
    "    label_list, text_list, offsets = [], [], [0]\n",
    "\n",
    "    for _text, _label in batch:\n",
    "        label_list.append(_label)\n",
    "        processed_text = torch.tensor(stoi(_text), dtype=torch.int64)\n",
    "        text_list.append(processed_text)\n",
    "        offsets.append(processed_text.size(0))\n",
    "\n",
    "    label_list = torch.tensor(label_list, dtype=torch.int64)\n",
    "    offsets = torch.tensor(offsets[:-1]).cumsum(dim=0)\n",
    "    text_list = torch.cat(text_list)\n",
    "\n",
    "    return label_list.to(device), text_list.to(device), offsets.to(device)"
   ]
  },
  {
   "cell_type": "code",
   "execution_count": 24,
   "metadata": {},
   "outputs": [],
   "source": [
    "data = random.sample(data, len(data))"
   ]
  },
  {
   "cell_type": "code",
   "execution_count": 25,
   "metadata": {},
   "outputs": [],
   "source": [
    "split = 0.2\n",
    "split_index = int(len(data) * (1 - split))"
   ]
  },
  {
   "cell_type": "code",
   "execution_count": 26,
   "metadata": {},
   "outputs": [],
   "source": [
    "train_data, test_data = data[:split_index], data[split_index:]"
   ]
  },
  {
   "cell_type": "code",
   "execution_count": 27,
   "metadata": {},
   "outputs": [
    {
     "data": {
      "text/plain": [
       "list"
      ]
     },
     "execution_count": 27,
     "metadata": {},
     "output_type": "execute_result"
    }
   ],
   "source": [
    "type(train_data)"
   ]
  },
  {
   "cell_type": "code",
   "execution_count": 28,
   "metadata": {},
   "outputs": [
    {
     "data": {
      "text/plain": [
       "(2257, 565)"
      ]
     },
     "execution_count": 28,
     "metadata": {},
     "output_type": "execute_result"
    }
   ],
   "source": [
    "len(train_data), len(test_data)"
   ]
  },
  {
   "cell_type": "code",
   "execution_count": 29,
   "metadata": {},
   "outputs": [],
   "source": [
    "BATCH_SIZE = 16"
   ]
  },
  {
   "cell_type": "code",
   "execution_count": 30,
   "metadata": {},
   "outputs": [],
   "source": [
    "train_dataloader = DataLoader(\n",
    "    train_data, batch_size=BATCH_SIZE, shuffle=True, collate_fn=collate_batch,generator=torch.Generator(device=device)\n",
    ")"
   ]
  },
  {
   "cell_type": "code",
   "execution_count": 31,
   "metadata": {},
   "outputs": [],
   "source": [
    "test_dataloader = DataLoader(\n",
    "    test_data,\n",
    "    batch_size=BATCH_SIZE,\n",
    "    shuffle=True,\n",
    "    collate_fn=collate_batch,\n",
    "    generator=torch.Generator(device=device),\n",
    ")"
   ]
  },
  {
   "cell_type": "code",
   "execution_count": 32,
   "metadata": {},
   "outputs": [],
   "source": [
    "from torch import nn\n",
    "\n",
    "\n",
    "class TextClassificationModel(nn.Module):\n",
    "    def __init__(self, vocab_size, embed_dim, num_nodes, num_class):\n",
    "        super(TextClassificationModel, self).__init__()\n",
    "\n",
    "        self.embedding = nn.EmbeddingBag(vocab_size, embed_dim, sparse=False)\n",
    "        self.dense_block = nn.Sequential(\n",
    "            nn.Linear(embed_dim, num_nodes),\n",
    "            nn.ReLU(),\n",
    "            nn.Dropout(),\n",
    "            nn.Linear(num_nodes, num_class),\n",
    "        )\n",
    "\n",
    "        self.embedding.apply(self.init_weights)\n",
    "        self.dense_block.apply(self.init_weights)\n",
    "\n",
    "    def init_weights(self, layer):\n",
    "        initrange = 0.5\n",
    "\n",
    "        if isinstance(layer, nn.Linear):\n",
    "            layer.weight.data.uniform_(-initrange, initrange)\n",
    "            layer.bias.data.zero_()\n",
    "        elif isinstance(layer, nn.EmbeddingBag):\n",
    "            layer.weight.data.uniform_(-initrange, initrange)\n",
    "\n",
    "    def forward(self, text, offsets):\n",
    "        embedded = self.embedding(text, offsets)\n",
    "        return self.dense_block(embedded)"
   ]
  },
  {
   "cell_type": "code",
   "execution_count": 33,
   "metadata": {},
   "outputs": [],
   "source": [
    "num_class = 2\n",
    "vocab_size = len(vocab)\n",
    "embed_size = 64\n",
    "model = TextClassificationModel(vocab_size, embed_size, 512, num_class).to(device)"
   ]
  },
  {
   "cell_type": "code",
   "execution_count": 34,
   "metadata": {},
   "outputs": [],
   "source": [
    "EPOCHS = 20\n",
    "LR = 0.001"
   ]
  },
  {
   "cell_type": "code",
   "execution_count": 35,
   "metadata": {},
   "outputs": [],
   "source": [
    "optimizer = torch.optim.Adam(model.parameters(), lr=LR, weight_decay=0.001)\n",
    "criterion = torch.nn.CrossEntropyLoss()"
   ]
  },
  {
   "cell_type": "code",
   "execution_count": 36,
   "metadata": {},
   "outputs": [],
   "source": [
    "def train_step(\n",
    "    model: torch.nn.Module,\n",
    "    dataloader: torch.utils.data.DataLoader,\n",
    "    loss_fn: torch.nn.Module,\n",
    "    optimizer: torch.optim.Optimizer,\n",
    "    device: torch.device,\n",
    "):\n",
    "    # Put model in train mode\n",
    "    model.train()\n",
    "\n",
    "    # Setup train loss and train accuracy values\n",
    "    train_loss, train_acc = 0, 0\n",
    "\n",
    "    # Loop through data loader data batches\n",
    "    for batch, (y, X, offsets) in enumerate(dataloader):\n",
    "        # Send data to target device\n",
    "        X, y = X.to(device), y.to(device)\n",
    "\n",
    "        # 1. Forward pass\n",
    "        y_pred = model(X, offsets)\n",
    "\n",
    "        # 2. Calculating and accumulating loss\n",
    "        loss = loss_fn(y_pred, y)\n",
    "\n",
    "        l2_lambda = 0.001\n",
    "        l2_regularization = torch.tensor(0.0, requires_grad=True)\n",
    "        for name, param in model.named_parameters():\n",
    "            if \"bias\" not in name:\n",
    "                l2_regularization = l2_regularization + torch.norm(param, p=2)\n",
    "\n",
    "        loss = loss + l2_lambda * l2_regularization\n",
    "        \n",
    "        train_loss += loss.item()\n",
    "\n",
    "        # 3. Optimizer zero grad\n",
    "        optimizer.zero_grad()\n",
    "\n",
    "        # 4. Loss backward\n",
    "        loss.backward()\n",
    "\n",
    "        # 5. Optimizer step\n",
    "        optimizer.step()\n",
    "\n",
    "        # Calculate and accumulate accuracy metric across all batches\n",
    "        y_pred_class = torch.argmax(y_pred, dim=1)\n",
    "        train_acc += (y_pred_class == y).sum().item() / len(y_pred)\n",
    "        # print(y_pred, y_pred_class, train_prec, \"\\n\")\n",
    "        # break\n",
    "\n",
    "    # Adjust metrics to get average loss and accuracy per batch\n",
    "    train_loss /= len(dataloader)\n",
    "    train_acc /= len(dataloader)\n",
    "\n",
    "    return train_loss, train_acc\n",
    "\n",
    "\n",
    "def test_step(\n",
    "    model: torch.nn.Module,\n",
    "    dataloader: torch.utils.data.DataLoader,\n",
    "    loss_fn: torch.nn.Module,\n",
    "    device: torch.device,\n",
    "):\n",
    "    # Put model in eval mode\n",
    "    model.eval()\n",
    "\n",
    "    # Setup test loss and test accuracy values\n",
    "    test_loss, test_acc = 0, 0\n",
    "\n",
    "    # Turn on inference context manager\n",
    "    with torch.inference_mode():\n",
    "        # Loop through DataLoader batches\n",
    "        for batch, (y, X, offsets) in enumerate(dataloader):\n",
    "            # Send data to target device\n",
    "            X, y = X.to(device), y.to(device)\n",
    "\n",
    "            # 1. Forward pass\n",
    "            test_pred_logits = model(X, offsets)\n",
    "\n",
    "            # 2. Calculate and accumulate loss\n",
    "            loss = loss_fn(test_pred_logits, y)\n",
    "\n",
    "            l2_lambda = 0.001\n",
    "            l2_regularization = torch.tensor(0.0, requires_grad=True)\n",
    "            for name, param in model.named_parameters():\n",
    "                if \"bias\" not in name:\n",
    "                    l2_regularization = l2_regularization + torch.norm(param, p=2)\n",
    "            loss = loss + l2_lambda * l2_regularization\n",
    "\n",
    "            test_loss += loss.item()\n",
    "\n",
    "            # Calculate and accumulate accuracy\n",
    "            test_pred_labels = test_pred_logits.argmax(dim=1)\n",
    "            test_acc += (test_pred_labels == y).sum().item() / len(test_pred_labels)\n",
    "\n",
    "            # break\n",
    "\n",
    "    # Adjust metrics to get average loss and accuracy per batch\n",
    "    test_loss /= len(dataloader)\n",
    "    test_acc /= len(dataloader)\n",
    "\n",
    "    return test_loss, test_acc\n",
    "\n",
    "\n",
    "def train(\n",
    "    model: torch.nn.Module,\n",
    "    train_dataloader: torch.utils.data.DataLoader,\n",
    "    test_dataloader: torch.utils.data.DataLoader,\n",
    "    optimizer: torch.optim.Optimizer,\n",
    "    loss_fn: torch.nn.Module,\n",
    "    epochs: int,\n",
    "    device: torch.device,\n",
    "):\n",
    "    # Create empty results dictionary\n",
    "    results = {\n",
    "        \"train_loss\": [],\n",
    "        \"train_acc\": [],\n",
    "        \"test_loss\": [],\n",
    "        \"test_acc\": [],\n",
    "    }\n",
    "\n",
    "    # Make sure model on target device\n",
    "    model.to(device)\n",
    "\n",
    "    # Loop through training and testing steps for a number of epochs\n",
    "    for epoch in tqdm(range(epochs)):\n",
    "        train_loss, train_acc = train_step(\n",
    "            model=model,\n",
    "            dataloader=train_dataloader,\n",
    "            loss_fn=loss_fn,\n",
    "            optimizer=optimizer,\n",
    "            device=device,\n",
    "        )\n",
    "        test_loss, test_acc = test_step(\n",
    "            model=model, dataloader=test_dataloader, loss_fn=loss_fn, device=device\n",
    "        )\n",
    "\n",
    "        # Print out what's happening\n",
    "        print(\n",
    "            f\"Epoch: {epoch+1} | \"\n",
    "            f\"train_loss: {train_loss:.4f} | \"\n",
    "            f\"train_acc: {train_acc:.4f} | \"\n",
    "            f\"test_loss: {test_loss:.4f} | \"\n",
    "            f\"test_acc: {test_acc:.4f}\"\n",
    "        )\n",
    "\n",
    "        # Update results dictionary\n",
    "        results[\"train_loss\"].append(train_loss)\n",
    "        results[\"train_acc\"].append(train_acc)\n",
    "        results[\"test_loss\"].append(test_loss)\n",
    "        results[\"test_acc\"].append(test_acc)\n",
    "\n",
    "    # Return the filled results at the end of the epochs\n",
    "    return results"
   ]
  },
  {
   "cell_type": "code",
   "execution_count": 37,
   "metadata": {},
   "outputs": [
    {
     "data": {
      "text/plain": [
       "(tensor([0, 0, 1, 0, 1, 0, 0, 1, 0, 1, 0, 0, 0, 0, 1, 0]),\n",
       " tensor([ 130,   51,   73,  ...,   13, 1053,   36]),\n",
       " tensor([   0,  328,  567,  819, 1168, 1623, 1848, 2067, 2396, 2469, 2712, 3086,\n",
       "         5497, 5501, 5829, 5872]))"
      ]
     },
     "execution_count": 37,
     "metadata": {},
     "output_type": "execute_result"
    }
   ],
   "source": [
    "next(iter(train_dataloader))"
   ]
  },
  {
   "cell_type": "code",
   "execution_count": 38,
   "metadata": {},
   "outputs": [
    {
     "data": {
      "application/vnd.jupyter.widget-view+json": {
       "model_id": "b8f624a0d3674fdb88e6d84538b65347",
       "version_major": 2,
       "version_minor": 0
      },
      "text/plain": [
       "  0%|          | 0/20 [00:00<?, ?it/s]"
      ]
     },
     "metadata": {},
     "output_type": "display_data"
    },
    {
     "name": "stdout",
     "output_type": "stream",
     "text": [
      "Epoch: 1 | train_loss: 0.9677 | train_acc: 0.6699 | test_loss: 0.8158 | test_acc: 0.7250\n",
      "Epoch: 2 | train_loss: 0.7218 | train_acc: 0.7746 | test_loss: 0.6284 | test_acc: 0.8000\n",
      "Epoch: 3 | train_loss: 0.5261 | train_acc: 0.8521 | test_loss: 0.5107 | test_acc: 0.8385\n",
      "Epoch: 4 | train_loss: 0.4067 | train_acc: 0.8851 | test_loss: 0.4578 | test_acc: 0.8472\n",
      "Epoch: 5 | train_loss: 0.3175 | train_acc: 0.9217 | test_loss: 0.4226 | test_acc: 0.8347\n",
      "Epoch: 6 | train_loss: 0.2737 | train_acc: 0.9252 | test_loss: 0.4342 | test_acc: 0.8521\n",
      "Epoch: 7 | train_loss: 0.2363 | train_acc: 0.9419 | test_loss: 0.4123 | test_acc: 0.8420\n",
      "Epoch: 8 | train_loss: 0.2158 | train_acc: 0.9476 | test_loss: 0.4306 | test_acc: 0.8517\n",
      "Epoch: 9 | train_loss: 0.1962 | train_acc: 0.9551 | test_loss: 0.4147 | test_acc: 0.8507\n",
      "Epoch: 10 | train_loss: 0.1828 | train_acc: 0.9608 | test_loss: 0.4234 | test_acc: 0.8417\n",
      "Epoch: 11 | train_loss: 0.1761 | train_acc: 0.9595 | test_loss: 0.4263 | test_acc: 0.8420\n",
      "Epoch: 12 | train_loss: 0.1625 | train_acc: 0.9643 | test_loss: 0.4309 | test_acc: 0.8396\n",
      "Epoch: 13 | train_loss: 0.1563 | train_acc: 0.9688 | test_loss: 0.4336 | test_acc: 0.8399\n",
      "Epoch: 14 | train_loss: 0.1535 | train_acc: 0.9683 | test_loss: 0.4533 | test_acc: 0.8292\n",
      "Epoch: 15 | train_loss: 0.1490 | train_acc: 0.9723 | test_loss: 0.4192 | test_acc: 0.8559\n",
      "Epoch: 16 | train_loss: 0.1421 | train_acc: 0.9749 | test_loss: 0.4324 | test_acc: 0.8507\n",
      "Epoch: 17 | train_loss: 0.1408 | train_acc: 0.9718 | test_loss: 0.4253 | test_acc: 0.8472\n",
      "Epoch: 18 | train_loss: 0.1333 | train_acc: 0.9745 | test_loss: 0.4270 | test_acc: 0.8472\n",
      "Epoch: 19 | train_loss: 0.1332 | train_acc: 0.9740 | test_loss: 0.4251 | test_acc: 0.8490\n",
      "Epoch: 20 | train_loss: 0.1312 | train_acc: 0.9776 | test_loss: 0.4392 | test_acc: 0.8417\n"
     ]
    },
    {
     "data": {
      "text/plain": [
       "{'train_loss': [0.9676783722890935,\n",
       "  0.7217653830286482,\n",
       "  0.5261253907646931,\n",
       "  0.4067090241841867,\n",
       "  0.3174593069813621,\n",
       "  0.2736987614820541,\n",
       "  0.23626421260791766,\n",
       "  0.21575475977340214,\n",
       "  0.19623993410610815,\n",
       "  0.1828182180425231,\n",
       "  0.17606715627119573,\n",
       "  0.16246385447366138,\n",
       "  0.15626275715168933,\n",
       "  0.15349290210386396,\n",
       "  0.14901363957201091,\n",
       "  0.14211448748976413,\n",
       "  0.14083539510906581,\n",
       "  0.13329096374587274,\n",
       "  0.13323777197847064,\n",
       "  0.13122003664538054],\n",
       " 'train_acc': [0.6698943661971831,\n",
       "  0.7746478873239436,\n",
       "  0.852112676056338,\n",
       "  0.8851232394366197,\n",
       "  0.9216549295774648,\n",
       "  0.9251760563380281,\n",
       "  0.9419014084507042,\n",
       "  0.9476232394366197,\n",
       "  0.9551056338028169,\n",
       "  0.9608274647887324,\n",
       "  0.9595070422535211,\n",
       "  0.9643485915492958,\n",
       "  0.96875,\n",
       "  0.9683098591549296,\n",
       "  0.9722711267605634,\n",
       "  0.9749119718309859,\n",
       "  0.971830985915493,\n",
       "  0.9744718309859155,\n",
       "  0.9740316901408451,\n",
       "  0.9775528169014085],\n",
       " 'test_loss': [0.8157598194148805,\n",
       "  0.6283977213833067,\n",
       "  0.5106618263655238,\n",
       "  0.45775939606957966,\n",
       "  0.4225867059495714,\n",
       "  0.43421538753641975,\n",
       "  0.4123480413109064,\n",
       "  0.4305716065896882,\n",
       "  0.4147176295518875,\n",
       "  0.42335575446486473,\n",
       "  0.42631322021285695,\n",
       "  0.4308538879785273,\n",
       "  0.4335768661565251,\n",
       "  0.45332354596919483,\n",
       "  0.41915047851701576,\n",
       "  0.43243988955186474,\n",
       "  0.4253328688856628,\n",
       "  0.4270324603550964,\n",
       "  0.42510949230442446,\n",
       "  0.43923570671015316],\n",
       " 'test_acc': [0.7250000000000001,\n",
       "  0.8,\n",
       "  0.8385416666666666,\n",
       "  0.8472222222222222,\n",
       "  0.8347222222222223,\n",
       "  0.8520833333333333,\n",
       "  0.8420138888888888,\n",
       "  0.8517361111111111,\n",
       "  0.8506944444444444,\n",
       "  0.8416666666666667,\n",
       "  0.8420138888888888,\n",
       "  0.8395833333333333,\n",
       "  0.8399305555555556,\n",
       "  0.8291666666666667,\n",
       "  0.8559027777777778,\n",
       "  0.8506944444444444,\n",
       "  0.8472222222222222,\n",
       "  0.8472222222222222,\n",
       "  0.8489583333333334,\n",
       "  0.8416666666666667]}"
      ]
     },
     "execution_count": 38,
     "metadata": {},
     "output_type": "execute_result"
    }
   ],
   "source": [
    "train(model, train_dataloader, test_dataloader, optimizer, criterion, EPOCHS, device)"
   ]
  },
  {
   "cell_type": "code",
   "execution_count": 40,
   "metadata": {},
   "outputs": [],
   "source": [
    "results={'train_loss': [0.9676783722890935,\n",
    "  0.7217653830286482,\n",
    "  0.5261253907646931,\n",
    "  0.4067090241841867,\n",
    "  0.3174593069813621,\n",
    "  0.2736987614820541,\n",
    "  0.23626421260791766,\n",
    "  0.21575475977340214,\n",
    "  0.19623993410610815,\n",
    "  0.1828182180425231,\n",
    "  0.17606715627119573,\n",
    "  0.16246385447366138,\n",
    "  0.15626275715168933,\n",
    "  0.15349290210386396,\n",
    "  0.14901363957201091,\n",
    "  0.14211448748976413,\n",
    "  0.14083539510906581,\n",
    "  0.13329096374587274,\n",
    "  0.13323777197847064,\n",
    "  0.13122003664538054],\n",
    " 'train_acc': [0.6698943661971831,\n",
    "  0.7746478873239436,\n",
    "  0.852112676056338,\n",
    "  0.8851232394366197,\n",
    "  0.9216549295774648,\n",
    "  0.9251760563380281,\n",
    "  0.9419014084507042,\n",
    "  0.9476232394366197,\n",
    "  0.9551056338028169,\n",
    "  0.9608274647887324,\n",
    "  0.9595070422535211,\n",
    "  0.9643485915492958,\n",
    "  0.96875,\n",
    "  0.9683098591549296,\n",
    "  0.9722711267605634,\n",
    "  0.9749119718309859,\n",
    "  0.971830985915493,\n",
    "  0.9744718309859155,\n",
    "  0.9740316901408451,\n",
    "  0.9775528169014085],\n",
    " 'test_loss': [0.8157598194148805,\n",
    "  0.6283977213833067,\n",
    "  0.5106618263655238,\n",
    "  0.45775939606957966,\n",
    "  0.4225867059495714,\n",
    "  0.43421538753641975,\n",
    "  0.4123480413109064,\n",
    "  0.4305716065896882,\n",
    "  0.4147176295518875,\n",
    "  0.42335575446486473,\n",
    "  0.42631322021285695,\n",
    "  0.4308538879785273,\n",
    "  0.4335768661565251,\n",
    "  0.45332354596919483,\n",
    "  0.41915047851701576,\n",
    "  0.43243988955186474,\n",
    "  0.4253328688856628,\n",
    "  0.4270324603550964,\n",
    "  0.42510949230442446,\n",
    "  0.43923570671015316],\n",
    " 'test_acc': [0.7250000000000001,\n",
    "  0.8,\n",
    "  0.8385416666666666,\n",
    "  0.8472222222222222,\n",
    "  0.8347222222222223,\n",
    "  0.8520833333333333,\n",
    "  0.8420138888888888,\n",
    "  0.8517361111111111,\n",
    "  0.8506944444444444,\n",
    "  0.8416666666666667,\n",
    "  0.8420138888888888,\n",
    "  0.8395833333333333,\n",
    "  0.8399305555555556,\n",
    "  0.8291666666666667,\n",
    "  0.8559027777777778,\n",
    "  0.8506944444444444,\n",
    "  0.8472222222222222,\n",
    "  0.8472222222222222,\n",
    "  0.8489583333333334,\n",
    "  0.8416666666666667]}"
   ]
  },
  {
   "cell_type": "code",
   "execution_count": 46,
   "metadata": {},
   "outputs": [
    {
     "data": {
      "text/plain": [
       "[<matplotlib.lines.Line2D at 0x2f380294e50>]"
      ]
     },
     "execution_count": 46,
     "metadata": {},
     "output_type": "execute_result"
    },
    {
     "data": {
      "image/png": "[encoded data removed]",
      "text/plain": [
       "<Figure size 640x480 with 1 Axes>"
      ]
     },
     "metadata": {},
     "output_type": "display_data"
    }
   ],
   "source": [
    "from matplotlib import pyplot as plt\n",
    "plt.plot(results[\"test_acc\"])\n",
    "plt.plot(results[\"train_acc\"])"
   ]
  },
  {
   "cell_type": "code",
   "execution_count": 27,
   "metadata": {},
   "outputs": [],
   "source": [
    "from torchmetrics.classification import F1Score\n",
    "\n",
    "f1_fn = F1Score(task=\"binary\", num_labels=5)"
   ]
  },
  {
   "cell_type": "code",
   "execution_count": 28,
   "metadata": {},
   "outputs": [
    {
     "data": {
      "text/plain": [
       "torchmetrics.classification.f_beta.BinaryF1Score"
      ]
     },
     "execution_count": 28,
     "metadata": {},
     "output_type": "execute_result"
    }
   ],
   "source": [
    "type(f1_fn)"
   ]
  },
  {
   "cell_type": "code",
   "execution_count": null,
   "metadata": {},
   "outputs": [],
   "source": [
    "x=torch.rand((16,2))"
   ]
  },
  {
   "cell_type": "code",
   "execution_count": null,
   "metadata": {},
   "outputs": [],
   "source": [
    "x.dtype"
   ]
  },
  {
   "cell_type": "code",
   "execution_count": null,
   "metadata": {},
   "outputs": [],
   "source": [
    "y,X,offset=collate_batch([[\"The sun rises in the east and sets in the west.\",0]])"
   ]
  },
  {
   "cell_type": "code",
   "execution_count": null,
   "metadata": {},
   "outputs": [],
   "source": [
    "y,X,offset"
   ]
  },
  {
   "cell_type": "code",
   "execution_count": null,
   "metadata": {},
   "outputs": [],
   "source": [
    "new_model.eval()\n",
    "\n",
    "# Setup test loss and test accuracy values\n",
    "test_loss, test_acc = 0, 0\n",
    "\n",
    "# Turn on inference context manager\n",
    "with torch.inference_mode():\n",
    "    \n",
    "    # Send data to target device\n",
    "    X, y = X.to(device), y.to(device)\n",
    "\n",
    "    # 1. Forward pass\n",
    "    test_pred_logits = new_model(X, offset)\n",
    "\n",
    "    # 2. Calculate and accumulate loss\n",
    "    # loss = loss_fn(test_pred_logits, y)\n",
    "    # test_loss += loss.item()\n",
    "\n",
    "    # Calculate and accumulate accuracy\n",
    "    test_pred_labels = test_pred_logits.argmax(dim=1)\n",
    "    # test_acc += (test_pred_labels == y).sum().item() / len(test_pred_labels)"
   ]
  },
  {
   "cell_type": "code",
   "execution_count": null,
   "metadata": {},
   "outputs": [],
   "source": [
    "test_pred_labels,test_pred_logits"
   ]
  },
  {
   "cell_type": "code",
   "execution_count": null,
   "metadata": {},
   "outputs": [],
   "source": [
    "# from pathlib import Path\n",
    "\n",
    "# def save_model(model: torch.nn.Module, target_dir: str, model_name: str):\n",
    "#     # Create target directory\n",
    "#     target_dir_path = Path(target_dir)\n",
    "#     target_dir_path.mkdir(parents=True, exist_ok=True)\n",
    "\n",
    "#     # Create model save path\n",
    "#     model_save_path = target_dir_path / model_name\n",
    "\n",
    "#     # Save the model state_dict()\n",
    "#     print(f\" Saving model to: {model_save_path}\")\n",
    "#     torch.save(obj=model.state_dict(), f=model_save_path)\n",
    "    \n",
    "# save_model(\n",
    "#     model=model, target_dir=\"models\", model_name=f\"first_model.pth\"\n",
    "# )\n"
   ]
  },
  {
   "cell_type": "code",
   "execution_count": null,
   "metadata": {},
   "outputs": [],
   "source": [
    "new_model = TextClassificationModel(vocab_size, embed_size, num_class).to(device)\n",
    "new_model.load_state_dict(torch.load(\"models/first_model.pth\"))"
   ]
  },
  {
   "cell_type": "code",
   "execution_count": null,
   "metadata": {},
   "outputs": [],
   "source": [
    "import pickle\n",
    "\n",
    "data = pickle.load(open(\"data.pkl\", \"rb\"))\n",
    "rules = open(\"samples.txt\", \"r\").readlines()\n",
    "rules = [i[0:-1] for i in rules]\n",
    "exemplars=pickle.load(open(\"samples.pkl\", \"rb\"))"
   ]
  },
  {
   "cell_type": "code",
   "execution_count": null,
   "metadata": {},
   "outputs": [],
   "source": [
    "for text,label in data[:16]:\n",
    "    print(label)"
   ]
  },
  {
   "cell_type": "code",
   "execution_count": null,
   "metadata": {},
   "outputs": [],
   "source": [
    "from data_setup import get_dataloaders\n",
    "\n",
    "tr_dl, ts_dl, vl = get_dataloaders(\"data.pkl\", 16)"
   ]
  },
  {
   "cell_type": "code",
   "execution_count": null,
   "metadata": {},
   "outputs": [],
   "source": [
    "x=next(iter(tr_dl))"
   ]
  },
  {
   "cell_type": "code",
   "execution_count": null,
   "metadata": {},
   "outputs": [],
   "source": [
    "x[0].unsqueeze(1).shape"
   ]
  },
  {
   "cell_type": "code",
   "execution_count": null,
   "metadata": {},
   "outputs": [],
   "source": [
    "# for i,j in zip(rules,exemplars):\n",
    "#     print(i,\" \",j)"
   ]
  },
  {
   "cell_type": "code",
   "execution_count": null,
   "metadata": {},
   "outputs": [],
   "source": [
    "import re\n",
    "\n",
    "y = []\n",
    "\n",
    "for text, label in data[:]:\n",
    "    temp = []\n",
    "    for i in range(len(rules)):\n",
    "        compiled_pattern = re.compile(rules[i], re.IGNORECASE)\n",
    "        if bool(compiled_pattern.search(text)) and label == 0:\n",
    "            temp.append(0)\n",
    "        else:\n",
    "            temp.append(1)\n",
    "    y.append(temp)"
   ]
  },
  {
   "cell_type": "code",
   "execution_count": null,
   "metadata": {},
   "outputs": [],
   "source": [
    "len(y[0]),len(y)"
   ]
  },
  {
   "cell_type": "code",
   "execution_count": null,
   "metadata": {},
   "outputs": [],
   "source": [
    "data=[i for i,j in data]"
   ]
  },
  {
   "cell_type": "code",
   "execution_count": null,
   "metadata": {},
   "outputs": [],
   "source": [
    "rule_data = [[data[i],y[i]] for i in range(2822)]"
   ]
  },
  {
   "cell_type": "code",
   "execution_count": null,
   "metadata": {},
   "outputs": [],
   "source": [
    "len(rule_data),len(rule_data[0]),len(rule_data[4][1])"
   ]
  },
  {
   "cell_type": "code",
   "execution_count": null,
   "metadata": {},
   "outputs": [],
   "source": [
    "pickle.dump(rule_data,open(\"rule_data.pkl\",\"wb\"))"
   ]
  },
  {
   "cell_type": "code",
   "execution_count": null,
   "metadata": {},
   "outputs": [],
   "source": [
    "a=pickle.load(open(\"rule_data.pkl\", \"rb\"))"
   ]
  },
  {
   "cell_type": "code",
   "execution_count": null,
   "metadata": {},
   "outputs": [],
   "source": [
    "len(a),len(a[0])"
   ]
  },
  {
   "cell_type": "code",
   "execution_count": null,
   "metadata": {},
   "outputs": [],
   "source": [
    "for i in a:\n",
    "    print(i[0],i[1])\n",
    "    break"
   ]
  },
  {
   "cell_type": "code",
   "execution_count": null,
   "metadata": {},
   "outputs": [],
   "source": [
    "data = [[preprocess(i[0]), i[1]] for i in a]"
   ]
  },
  {
   "cell_type": "code",
   "execution_count": null,
   "metadata": {},
   "outputs": [],
   "source": [
    "a[0][0]"
   ]
  },
  {
   "cell_type": "code",
   "execution_count": null,
   "metadata": {},
   "outputs": [],
   "source": [
    "def preprocess(text):\n",
    "    text = re.sub(r\"@[A-Za-z0-9]+\", \"\", text)\n",
    "    text = re.sub(r\"[0-9]+\", \"\", text)\n",
    "    text = re.sub(r\"#[A-Za-z0-9]*\", \"\", text)\n",
    "    text = re.sub(r\"https?:\\/\\/\\S+\", \"\", text)\n",
    "    text = re.sub(r\"[\\n]\", \" \", text)\n",
    "    text = re.sub(r\"['\\\",*%$#()]\", \" \", text)\n",
    "    text = re.sub(r\"[.]\", \" . \", text)\n",
    "    text = text.encode(\"ascii\", \"ignore\").decode(\"ascii\")\n",
    "    return text.strip()"
   ]
  },
  {
   "cell_type": "code",
   "execution_count": null,
   "metadata": {},
   "outputs": [],
   "source": [
    "data = [[preprocess(i[0]), i[1]] for i in rule_data]"
   ]
  },
  {
   "cell_type": "code",
   "execution_count": null,
   "metadata": {},
   "outputs": [],
   "source": [
    "len(data),len(data[0]),len(data[0][1])"
   ]
  },
  {
   "cell_type": "code",
   "execution_count": null,
   "metadata": {},
   "outputs": [],
   "source": [
    "from data_setup import get_dataloaders\n",
    "\n",
    "train_dl,test_dl,vl=get_dataloaders(\"rule_data.pkl\",16)"
   ]
  },
  {
   "cell_type": "code",
   "execution_count": null,
   "metadata": {},
   "outputs": [],
   "source": [
    "y, x, o = next(iter(train_dl))"
   ]
  },
  {
   "cell_type": "code",
   "execution_count": null,
   "metadata": {},
   "outputs": [],
   "source": [
    "y.shape,x.shape"
   ]
  },
  {
   "cell_type": "code",
   "execution_count": null,
   "metadata": {},
   "outputs": [],
   "source": [
    "4460/16"
   ]
  },
  {
   "cell_type": "code",
   "execution_count": null,
   "metadata": {},
   "outputs": [],
   "source": [
    "device = \"cuda:0\" if torch.cuda.is_available() else \"cpu\"\n",
    "\n",
    "torch.set_default_device(device)"
   ]
  },
  {
   "cell_type": "code",
   "execution_count": null,
   "metadata": {},
   "outputs": [],
   "source": [
    "for b,d in enumerate(train_dl):\n",
    "    print(b,d,d[1].shape)\n",
    "    break"
   ]
  },
  {
   "cell_type": "code",
   "execution_count": null,
   "metadata": {},
   "outputs": [],
   "source": [
    "d[0].shape,d[1].shape,d[2].shape"
   ]
  },
  {
   "cell_type": "code",
   "execution_count": null,
   "metadata": {},
   "outputs": [],
   "source": [
    "import torch\n",
    "y=torch.rand((16,43))\n",
    "y_pred=torch.rand((16,43))"
   ]
  },
  {
   "cell_type": "code",
   "execution_count": null,
   "metadata": {},
   "outputs": [],
   "source": [
    "temp=y-y_pred"
   ]
  },
  {
   "cell_type": "code",
   "execution_count": null,
   "metadata": {},
   "outputs": [],
   "source": [
    "c=0\n",
    "for i in temp.reshape(-1):\n",
    "    c+=1"
   ]
  },
  {
   "cell_type": "code",
   "execution_count": null,
   "metadata": {},
   "outputs": [],
   "source": [
    "c = 0\n",
    "num_classes = 5\n",
    "for i in range(num_classes):\n",
    "    if (y[i] - y_pred[i]).abs() < 0.5:\n",
    "        c += 1\n",
    "acc = c / num_classes\n",
    "acc"
   ]
  },
  {
   "cell_type": "code",
   "execution_count": 15,
   "metadata": {},
   "outputs": [],
   "source": [
    "from torch.optim.lr_scheduler import ReduceLROnPlateau\n",
    "import torch.optim.adam\n",
    "import torch\n",
    "import torch.nn as nn"
   ]
  },
  {
   "cell_type": "code",
   "execution_count": 16,
   "metadata": {},
   "outputs": [],
   "source": [
    "class ClassificationNetwork(nn.Module):\n",
    "    def __init__(self, vocab_size, embed_dim, num_nodes, num_class, embedding_matrix):\n",
    "        super(ClassificationNetwork, self).__init__()\n",
    "\n",
    "        # self.glove_embedding = nn.EmbeddingBag.from_pretrained(\n",
    "        #     embedding_matrix, freeze=True\n",
    "        # )\n",
    "        self.embedding = nn.EmbeddingBag(vocab_size, embed_dim)\n",
    "        self.dense_block = nn.Sequential(\n",
    "            nn.Linear(embed_dim, num_nodes),\n",
    "            nn.ReLU(),\n",
    "            nn.Dropout(0.5),\n",
    "            nn.Linear(num_nodes, num_class),\n",
    "        )\n",
    "\n",
    "        self.embedding.apply(self.init_weights)\n",
    "        self.dense_block.apply(self.init_weights)\n",
    "\n",
    "    def init_weights(self, layer):\n",
    "        initrange = 0.5\n",
    "\n",
    "        if isinstance(layer, nn.Linear or nn.EmbeddingBag):\n",
    "            layer.weight.data.uniform_(-initrange, initrange)\n",
    "            layer.bias.data.zero_()\n",
    "\n",
    "    def forward(self, text, offsets):\n",
    "        # combined_embedding = torch.cat(\n",
    "        #     [self.embedding(text, offsets), self.glove_embedding(text, offsets)],\n",
    "        #     dim=-1,\n",
    "        # )\n",
    "        embedded = self.embedding(text, offsets)\n",
    "        return self.dense_block(embedded)\n"
   ]
  },
  {
   "cell_type": "code",
   "execution_count": 19,
   "metadata": {},
   "outputs": [],
   "source": [
    "model = ClassificationNetwork(500, 20, 50, 2, None)\n",
    "\n",
    "\n",
    "optimizer = torch.optim.Adam(model.parameters(), lr=0.1)\n",
    "scheduler = ReduceLROnPlateau(optimizer, \"max\", patience=3, verbose=True)\n"
   ]
  },
  {
   "cell_type": "code",
   "execution_count": 20,
   "metadata": {},
   "outputs": [
    {
     "data": {
      "text/plain": [
       "torch.optim.lr_scheduler.ReduceLROnPlateau"
      ]
     },
     "execution_count": 20,
     "metadata": {},
     "output_type": "execute_result"
    }
   ],
   "source": [
    "type(scheduler)"
   ]
  },
  {
   "cell_type": "code",
   "execution_count": 14,
   "metadata": {},
   "outputs": [],
   "source": [
    "import pickle\n",
    "import os\n",
    "\n",
    "eval_dict = {}\n",
    "\n",
    "folder_path = \"./results/\"\n",
    "\n",
    "for filename in os.listdir(folder_path):\n",
    "    file_path = os.path.join(folder_path, filename)\n",
    "\n",
    "    res = pickle.load(open(file_path, \"rb\"))\n",
    "    eval_dict[filename] = max(res[\"test_acc\"])"
   ]
  },
  {
   "cell_type": "code",
   "execution_count": 15,
   "metadata": {},
   "outputs": [
    {
     "data": {
      "text/plain": [
       "[('1024nodes_1024embed_0.001lr_results.pkl', 0.8996069183889425),\n",
       " ('1024nodes_1024embed_3e-4lr_results.pkl', 0.7935461458170189),\n",
       " ('256nodes_1024embed_3e-4lr_results.pkl', 0.7833461311628234),\n",
       " ('classification_model_dropout0.5_2508_results.pkl', 0.8996855346661694),\n",
       " ('classification_model_dropout0.5_2608_with_embeddings_results.pkl',\n",
       "  0.831289308251075),\n",
       " ('classification_model_dropout0.6_2508_results.pkl', 0.8973270441001316),\n",
       " ('model_with_layernorm_256nodes_1024embed_0.001lr_results.pkl',\n",
       "  0.8996270310203984),\n",
       " ('model_with_layernorm_256nodes_1024embed_3e-4lr_32batch_results.pkl',\n",
       "  0.8943206314687375),\n",
       " ('rule_model_with_layernorm_1024nodes_1024embed_3e-4lr_32batch_results.pkl',\n",
       "  0.8921924299663968)]"
      ]
     },
     "execution_count": 15,
     "metadata": {},
     "output_type": "execute_result"
    }
   ],
   "source": [
    "sorted(eval_dict.items())"
   ]
  },
  {
   "cell_type": "code",
   "execution_count": null,
   "metadata": {},
   "outputs": [],
   "source": [
    "res1=pickle.load(open(\"results\\classification_model_dropout0.6_2508_results.pkl\",\"rb\"))\n",
    "res2=pickle.load(open(\"results\\classification_model_dropout0.5_2508_results.pkl\",\"rb\"))"
   ]
  },
  {
   "cell_type": "code",
   "execution_count": 39,
   "metadata": {},
   "outputs": [],
   "source": [
    "import pandas as pd"
   ]
  },
  {
   "cell_type": "code",
   "execution_count": 44,
   "metadata": {},
   "outputs": [
    {
     "data": {
      "text/plain": [
       "(    train_loss  train_f1  train_acc  test_loss   test_f1  test_acc\n",
       " 17    0.037894  0.989567   0.990423   0.343799  0.887422  0.897327\n",
       " 11    0.112145  0.957060   0.962558   0.311856  0.884228  0.892610\n",
       " 13    0.082809  0.968599   0.970766   0.325911  0.881725  0.896148\n",
       " 18    0.033232  0.988797   0.990423   0.355096  0.880266  0.887893\n",
       " 12    0.086164  0.967595   0.969758   0.316964  0.876140  0.893789\n",
       " 10    0.135249  0.948615   0.953125   0.319740  0.875109  0.883019\n",
       " 8     0.173269  0.921297   0.927275   0.317038  0.871735  0.883019\n",
       " 14    0.073092  0.970906   0.973286   0.338545  0.867581  0.890252\n",
       " 19    0.036350  0.991695   0.992440   0.374309  0.865950  0.878302\n",
       " 16    0.049480  0.980592   0.984375   0.349396  0.865330  0.887972\n",
       " 9     0.158399  0.932475   0.941028   0.306827  0.863489  0.877123\n",
       " 15    0.055742  0.982230   0.981351   0.349301  0.862266  0.893789\n",
       " 7     0.225380  0.899866   0.909634   0.325797  0.853238  0.879481\n",
       " 6     0.248921  0.887587   0.900562   0.334898  0.848641  0.878223\n",
       " 5     0.301629  0.850313   0.868664   0.364640  0.843121  0.869104\n",
       " 3     0.461390  0.807380   0.825965   0.378742  0.837272  0.855818\n",
       " 2     0.628166  0.761654   0.786146   0.399328  0.829762  0.846462\n",
       " 4     0.372067  0.844675   0.859231   0.397414  0.821988  0.826336\n",
       " 1     1.000743  0.709126   0.736103   0.446833  0.817163  0.827594\n",
       " 0     1.836522  0.597117   0.617800   0.540518  0.767699  0.804167,\n",
       "     train_loss  train_f1  train_acc  test_loss   test_f1  test_acc\n",
       " 17    0.021012  0.995407   0.995464   0.348890  0.889166  0.896148\n",
       " 18    0.018294  0.996204   0.996976   0.353329  0.884648  0.893789\n",
       " 14    0.043402  0.990762   0.990927   0.326724  0.884568  0.899686\n",
       " 11    0.077190  0.971128   0.975662   0.319784  0.882826  0.894969\n",
       " 13    0.054349  0.981115   0.982359   0.333857  0.882032  0.894969\n",
       " 10    0.104139  0.968988   0.970622   0.325956  0.878440  0.885456\n",
       " 12    0.057669  0.977075   0.979839   0.326633  0.876999  0.892610\n",
       " 16    0.028396  0.991941   0.992944   0.342463  0.875254  0.896226\n",
       " 9     0.115336  0.953606   0.959029   0.317399  0.872904  0.884277\n",
       " 8     0.136866  0.947339   0.950965   0.328593  0.872575  0.887657\n",
       " 15    0.033773  0.987413   0.988911   0.353482  0.864737  0.897406\n",
       " 6     0.216389  0.911331   0.920867   0.327567  0.860898  0.885377\n",
       " 19    0.024659  0.993424   0.993952   0.423550  0.858055  0.865330\n",
       " 3     0.374995  0.828822   0.847134   0.358684  0.855669  0.866431\n",
       " 7     0.178815  0.926903   0.932676   0.324650  0.852881  0.873506\n",
       " 4     0.297067  0.873524   0.884937   0.354051  0.845804  0.856997\n",
       " 5     0.240578  0.883933   0.898546   0.366690  0.843736  0.869025\n",
       " 2     0.538275  0.786721   0.805660   0.383802  0.828774  0.845362\n",
       " 1     0.830130  0.724296   0.746328   0.429112  0.814417  0.828695\n",
       " 0     1.588085  0.599325   0.621328   0.500199  0.777446  0.808884)"
      ]
     },
     "execution_count": 44,
     "metadata": {},
     "output_type": "execute_result"
    }
   ],
   "source": [
    "pd.DataFrame(res1).sort_values(by=\"test_f1\",ascending=False),pd.DataFrame(res2).sort_values(by=\"test_f1\",ascending=False)"
   ]
  },
  {
   "cell_type": "code",
   "execution_count": null,
   "metadata": {},
   "outputs": [],
   "source": []
  }
 ],
 "metadata": {
  "kernelspec": {
   "display_name": "Python 3",
   "language": "python",
   "name": "python3"
  },
  "language_info": {
   "codemirror_mode": {
    "name": "ipython",
    "version": 3
   },
   "file_extension": ".py",
   "mimetype": "text/x-python",
   "name": "python",
   "nbconvert_exporter": "python",
   "pygments_lexer": "ipython3",
   "version": "3.11.5"
  },
  "orig_nbformat": 4
 },
 "nbformat": 4,
 "nbformat_minor": 2
}
